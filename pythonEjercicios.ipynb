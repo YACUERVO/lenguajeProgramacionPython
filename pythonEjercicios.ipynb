{
  "nbformat": 4,
  "nbformat_minor": 0,
  "metadata": {
    "colab": {
      "provenance": [],
      "authorship_tag": "ABX9TyMoDo2pVoAVUPpoFwlRXq24",
      "include_colab_link": true
    },
    "kernelspec": {
      "name": "python3",
      "display_name": "Python 3"
    },
    "language_info": {
      "name": "python"
    }
  },
  "cells": [
    {
      "cell_type": "markdown",
      "metadata": {
        "id": "view-in-github",
        "colab_type": "text"
      },
      "source": [
        "<a href=\"https://colab.research.google.com/github/YACUERVO/lenguajeProgramacionPython/blob/master/pythonEjercicios.ipynb\" target=\"_parent\"><img src=\"https://colab.research.google.com/assets/colab-badge.svg\" alt=\"Open In Colab\"/></a>"
      ]
    },
    {
      "cell_type": "markdown",
      "source": [
        "👉 Temas vistos en el capítulo:\n",
        "\n",
        "    Listas\n",
        "    Tuplas\n",
        "    Función zip()\n",
        "    Conjuntos\n",
        "    Diccionarios\n",
        "\n",
        "👉 Caso práctico: Análisis de Ventas por Producto\n",
        "\n",
        "En una empresa, se tiene un registro de las ventas de diferentes productos a lo largo del mes. Estas ventas están registradas en dos listas diferentes: una contiene los nombres de los productos y la otra los montos de ventas correspondientes. Se desea unir estas listas y obtener un resumen que muestre las ventas totales por producto."
      ],
      "metadata": {
        "id": "0YV7iA3hRUBl"
      }
    },
    {
      "cell_type": "code",
      "source": [
        "# Listas: Nombre de productos y ventas correspondientes\n",
        "\n",
        "productos = ['Camiseta', 'Pantalón', 'Zapatos', 'Bolso', 'Gorra']\n",
        "ventas = [35000, 60000, 120000, 80000, 30000]\n",
        "\n",
        "# Dicciionarios: Crear un dicccionario para almacenar las ventas totales por producto\n",
        "# La estructura del diccionario tiene que ser {producto : ventas}\n",
        "# Donde el producto sera la clave y las ventas el valor\n",
        "# Inicializamos el diccionario con llaves vacias {}\n",
        "\n",
        "ventas_totales = {}\n",
        "\n",
        "# Funcion zip (): combinar las dos listas en una sola estrutura\n",
        "# La funcion zip() combina dos listas en una sola estructura\n",
        "# Ejemplo: zip ([\"Camiseta\", 35000])\n",
        "\n",
        "# Genera una tuplas\n",
        "ventas_por_producto = zip(productos, ventas)\n",
        "\n",
        "\n",
        "# Tuplas y asignacion: Llenar el diccionario con la informacion combinada\n",
        "# Bucle for\n",
        "# Para cada producto y venta en ventas_combinadas, asignar la venta al producto correspondiente\n",
        "# ventas_combinadas tiene el valor de [(\"Producto A\", 2500), (\"Producto B\", 1500), (\"Producto C\", 3200)]\n",
        "# Vamos a realizar una acción (ir llenando el diccionario ventas por producto)\n",
        "# por cada elemento de ventas_combinadas, e.g. primer elemento es una tupla (\"Producto A\", 2500)\n",
        "# \"Producto A\" se asignará a la variable \"producto\" y 2500 se asignará a la variable \"venta\n",
        "\n",
        "for producto, venta in ventas_por_producto:\n",
        "  ventas_totales[producto] = venta\n",
        "\n",
        "# Imprimir el diccionario con las ventas totales por producto\n",
        "print(ventas_totales)\n",
        "\n",
        "# Mostrar cada producto por venta en ventas_por_producto.items(), mostrar el producto y la venta\n",
        "\n",
        "print(\"Ventas totales por producto:\")\n",
        "for producto, venta in ventas_totales.items():\n",
        "  print(f\"{producto} : ${venta}\")\n",
        "\n",
        "\n",
        "\n",
        "\n"
      ],
      "metadata": {
        "colab": {
          "base_uri": "https://localhost:8080/"
        },
        "id": "HZvd_vuRRWiQ",
        "outputId": "30c20dc9-0cca-454b-b59d-f543daf4c94c"
      },
      "execution_count": null,
      "outputs": [
        {
          "output_type": "stream",
          "name": "stdout",
          "text": [
            "{'Camiseta': 35000, 'Pantalón': 60000, 'Zapatos': 120000, 'Bolso': 80000, 'Gorra': 30000}\n",
            "Ventas totales por producto:\n",
            "Camiseta : $35000\n",
            "Pantalón : $60000\n",
            "Zapatos : $120000\n",
            "Bolso : $80000\n",
            "Gorra : $30000\n"
          ]
        }
      ]
    },
    {
      "cell_type": "code",
      "source": [
        "edad = 30\n",
        "if edad >= 18:\n",
        "  print(\"Eres mayor de edad\")\n",
        "else:\n",
        "  print(\"Eres menor de edad\")"
      ],
      "metadata": {
        "colab": {
          "base_uri": "https://localhost:8080/"
        },
        "id": "SrgaCImvWTNg",
        "outputId": "963f3a7f-15c1-4b80-b546-1dfaf00fa893"
      },
      "execution_count": null,
      "outputs": [
        {
          "output_type": "stream",
          "name": "stdout",
          "text": [
            "Eres mayor de edad\n"
          ]
        }
      ]
    },
    {
      "cell_type": "markdown",
      "source": [
        "**Funcion math alternativa a elifs**\n"
      ],
      "metadata": {
        "id": "k0uBiuN1Wx2u"
      }
    },
    {
      "cell_type": "code",
      "source": [
        "import math\n",
        "\n",
        "edad = 18\n",
        "match edad:\n",
        "  case edad if edad >= 18:\n",
        "    print(\"Eres mayor de edad\")\n",
        "  case edad if edad < 18:\n",
        "    print(\"Eres menor de edad\")"
      ],
      "metadata": {
        "colab": {
          "base_uri": "https://localhost:8080/"
        },
        "id": "w5d9SRGzW2DA",
        "outputId": "6dbd9729-5ac4-4f02-f98d-7274c85d0250"
      },
      "execution_count": null,
      "outputs": [
        {
          "output_type": "stream",
          "name": "stdout",
          "text": [
            "Eres mayor de edad\n"
          ]
        }
      ]
    },
    {
      "cell_type": "markdown",
      "source": [
        "Bucle mientras"
      ],
      "metadata": {
        "id": "enDSFTLPYGu0"
      }
    },
    {
      "cell_type": "code",
      "source": [
        "contador = 1\n",
        "while contador <= 5:\n",
        "  print(contador)\n",
        "  contador += 1\n",
        "\n",
        "print(\"Bucle con input\")\n",
        "\n",
        "valor =int(input(\"Ingrese un numero: \"))\n",
        "while valor < 10:\n",
        "  print(valor)\n",
        "  valor = int(input(\"Ingrese un numero: \"))"
      ],
      "metadata": {
        "colab": {
          "base_uri": "https://localhost:8080/"
        },
        "id": "Uvmvk9hMYKrx",
        "outputId": "490b236f-a77c-4793-a4c6-6f9b71481d6a"
      },
      "execution_count": null,
      "outputs": [
        {
          "name": "stdout",
          "output_type": "stream",
          "text": [
            "1\n",
            "2\n",
            "3\n",
            "4\n",
            "5\n",
            "Bucle con input\n",
            "Ingrese un numero: 5\n",
            "5\n",
            "Ingrese un numero: 5\n",
            "5\n",
            "Ingrese un numero: 10\n"
          ]
        }
      ]
    },
    {
      "cell_type": "code",
      "source": [
        "import time\n",
        "\n",
        "contador = 0\n",
        "\n",
        "while (contador < 10):\n",
        "  time.sleep(0.5)\n",
        "  if contador == 5:\n",
        "    break\n",
        "  print(f\"elemento: {contador}\")\n",
        "  contador += 1\n"
      ],
      "metadata": {
        "colab": {
          "base_uri": "https://localhost:8080/"
        },
        "id": "sPNts6hRZBXt",
        "outputId": "e5b65359-b31e-460a-a97b-37b043ec41e0"
      },
      "execution_count": null,
      "outputs": [
        {
          "output_type": "stream",
          "name": "stdout",
          "text": [
            "elemento: 0\n",
            "elemento: 1\n",
            "elemento: 2\n",
            "elemento: 3\n",
            "elemento: 4\n"
          ]
        }
      ]
    },
    {
      "cell_type": "code",
      "source": [
        "contador = 0\n",
        "\n",
        "while (contador < 10):\n",
        "  contador += 1\n",
        "  if contador == 5:\n",
        "    continue\n",
        "  print(f\"elemento: {contador}\")"
      ],
      "metadata": {
        "colab": {
          "base_uri": "https://localhost:8080/"
        },
        "id": "ZdQLQNxiZmEn",
        "outputId": "a3eb6f86-6cc1-47ae-d985-c81292865eed"
      },
      "execution_count": null,
      "outputs": [
        {
          "output_type": "stream",
          "name": "stdout",
          "text": [
            "elemento: 1\n",
            "elemento: 2\n",
            "elemento: 3\n",
            "elemento: 4\n",
            "elemento: 6\n",
            "elemento: 7\n",
            "elemento: 8\n",
            "elemento: 9\n",
            "elemento: 10\n"
          ]
        }
      ]
    },
    {
      "cell_type": "code",
      "source": [
        "contador = 0\n",
        "\n",
        "while (contador < 10):\n",
        "  contador += 1\n",
        "  if contador == 5:\n",
        "    pass\n",
        "  print(f\"elemento: {contador}\")"
      ],
      "metadata": {
        "colab": {
          "base_uri": "https://localhost:8080/"
        },
        "id": "TShV2k4-Z-Sk",
        "outputId": "5c597114-2f21-4399-c00f-f057a44362dd"
      },
      "execution_count": null,
      "outputs": [
        {
          "output_type": "stream",
          "name": "stdout",
          "text": [
            "elemento: 1\n",
            "elemento: 2\n",
            "elemento: 3\n",
            "elemento: 4\n",
            "elemento: 5\n",
            "elemento: 6\n",
            "elemento: 7\n",
            "elemento: 8\n",
            "elemento: 9\n",
            "elemento: 10\n"
          ]
        }
      ]
    },
    {
      "cell_type": "markdown",
      "source": [],
      "metadata": {
        "id": "M_880sm0YQIi"
      }
    },
    {
      "cell_type": "markdown",
      "source": [
        "BLUCLE FOR POR CADA"
      ],
      "metadata": {
        "id": "JfOXdAiJaVwT"
      }
    },
    {
      "cell_type": "code",
      "source": [
        "lista_numero = [1,2,3,4,5,6,7,8,9,10]\n",
        "nueva_lista = []\n",
        "\n",
        "for numero in lista_numero:\n",
        "  nueva_lista.append(numero)\n",
        "  print(nueva_lista)\n",
        "  time.sleep(0.5)\n",
        "\n",
        "\n"
      ],
      "metadata": {
        "colab": {
          "base_uri": "https://localhost:8080/"
        },
        "id": "gY7-PkO_anmP",
        "outputId": "5e45bdd8-6cd0-4684-c8f3-f1cfcec729bf"
      },
      "execution_count": null,
      "outputs": [
        {
          "output_type": "stream",
          "name": "stdout",
          "text": [
            "[1]\n",
            "[1, 2]\n",
            "[1, 2, 3]\n",
            "[1, 2, 3, 4]\n",
            "[1, 2, 3, 4, 5]\n",
            "[1, 2, 3, 4, 5, 6]\n",
            "[1, 2, 3, 4, 5, 6, 7]\n",
            "[1, 2, 3, 4, 5, 6, 7, 8]\n",
            "[1, 2, 3, 4, 5, 6, 7, 8, 9]\n",
            "[1, 2, 3, 4, 5, 6, 7, 8, 9, 10]\n"
          ]
        }
      ]
    },
    {
      "cell_type": "markdown",
      "source": [
        "FUNCION ENUMERATE\n"
      ],
      "metadata": {
        "id": "CMQOpJQfbS3c"
      }
    },
    {
      "cell_type": "code",
      "source": [
        "lista_numero = [\"A\",\"B\",\"C\",\"E\"]\n",
        "\n",
        "for indice, letra in enumerate(lista_numero):\n",
        "    print(indice, letra)\n",
        "    time.sleep(0.5)"
      ],
      "metadata": {
        "colab": {
          "base_uri": "https://localhost:8080/"
        },
        "id": "RujuRNYxbUur",
        "outputId": "06414f51-2473-408b-8bae-0a9a92643da5"
      },
      "execution_count": null,
      "outputs": [
        {
          "output_type": "stream",
          "name": "stdout",
          "text": [
            "0 A\n",
            "1 B\n",
            "2 C\n",
            "3 E\n"
          ]
        }
      ]
    },
    {
      "cell_type": "markdown",
      "source": [
        "FUNCION DE RANGO"
      ],
      "metadata": {
        "id": "DBGVURD7cG29"
      }
    },
    {
      "cell_type": "code",
      "source": [
        "rango = range(1,8)\n",
        "list(rango)\n",
        "print(list(rango))\n",
        "\n",
        "for i in range(10):\n",
        "  print(i)"
      ],
      "metadata": {
        "colab": {
          "base_uri": "https://localhost:8080/"
        },
        "id": "DH9GLo0_cI7I",
        "outputId": "3cc43027-9e47-4e67-dc22-cfebdb29dcfd"
      },
      "execution_count": null,
      "outputs": [
        {
          "output_type": "stream",
          "name": "stdout",
          "text": [
            "[1, 2, 3, 4, 5, 6, 7]\n",
            "0\n",
            "1\n",
            "2\n",
            "3\n",
            "4\n",
            "5\n",
            "6\n",
            "7\n",
            "8\n",
            "9\n"
          ]
        }
      ]
    },
    {
      "cell_type": "markdown",
      "source": [
        "ITERANDO SOBRE DICCIONARIOS"
      ],
      "metadata": {
        "id": "ngLx4U-7cllr"
      }
    },
    {
      "cell_type": "code",
      "source": [
        "# prompt: DAME UN DICCIONARIO DE PRODUCTOS\n",
        "\n",
        "productos_dict = {\n",
        "    'Camiseta': 35000,\n",
        "    'Pantalón': 60000,\n",
        "    'Zapatos': 120000,\n",
        "    'Bolso': 80000,\n",
        "    'Gorra': 30000\n",
        "}\n",
        "\n",
        "for clave in productos_dict:\n",
        "  print(f\"{clave} -> {productos_dict[clave]}\")\n",
        "  time.sleep(0.9)\n",
        "\n",
        "#Clave\n",
        "print(productos_dict.keys())\n",
        "#Valor\n",
        "print(productos_dict.values())\n",
        "#Clave y valor\n",
        "print(productos_dict.items())\n"
      ],
      "metadata": {
        "colab": {
          "base_uri": "https://localhost:8080/"
        },
        "id": "vcdQkpebcpCE",
        "outputId": "ca3b7f2e-d4a7-4342-bdd8-01c9d2815802"
      },
      "execution_count": null,
      "outputs": [
        {
          "output_type": "stream",
          "name": "stdout",
          "text": [
            "Camiseta -> 35000\n",
            "Pantalón -> 60000\n",
            "Zapatos -> 120000\n",
            "Bolso -> 80000\n",
            "Gorra -> 30000\n",
            "dict_keys(['Camiseta', 'Pantalón', 'Zapatos', 'Bolso', 'Gorra'])\n",
            "dict_values([35000, 60000, 120000, 80000, 30000])\n",
            "dict_items([('Camiseta', 35000), ('Pantalón', 60000), ('Zapatos', 120000), ('Bolso', 80000), ('Gorra', 30000)])\n"
          ]
        }
      ]
    },
    {
      "cell_type": "markdown",
      "source": [
        "COMPRENSION DE LISTAS"
      ],
      "metadata": {
        "id": "pWfsG08pd248"
      }
    },
    {
      "cell_type": "code",
      "source": [
        "#dir(list)\n",
        "\n",
        "lista_metodos = [i for i in dir(list()) if \"__\" not in i]\n",
        "print(lista_metodos)\n",
        "\n",
        "\n",
        "lista_numero=\n",
        "nueva_lista = []\n",
        "\n",
        "\n"
      ],
      "metadata": {
        "colab": {
          "base_uri": "https://localhost:8080/"
        },
        "id": "b2Yt6BYkd5BS",
        "outputId": "385f2939-2dc8-42e1-9f8a-bffe58c83c01"
      },
      "execution_count": null,
      "outputs": [
        {
          "output_type": "stream",
          "name": "stdout",
          "text": [
            "['append', 'clear', 'copy', 'count', 'extend', 'index', 'insert', 'pop', 'remove', 'reverse', 'sort']\n"
          ]
        }
      ]
    },
    {
      "cell_type": "code",
      "source": [
        "respuestasEncuestas= [5, 4, 5, 4, 3, 4, 4, 3, 4, 5, 5, 2, 1, 3, 3, 4,\n",
        "                       5, 4, 1, 4, 3, 3, 2, 4, 5, 1, 2, 3, 4, 4, 1]\n",
        "contadorSatisfaccion= {1:0, 2:0, 3:0, 4:0, 5:0}\n",
        "#Contar la cantidad de respuestas para cada nivel de satisfaccion\n",
        "for respuesta in respuestasEncuestas:\n",
        "  contadorSatisfaccion[respuesta] += 1\n",
        "# print(f\"Resumen de satisfaccion por cliente {contadorSatisfaccion}\")\n",
        "\n",
        "print(\"Resumen de la encuesta\")\n",
        "for clave, valor in contadorSatisfaccion.items():\n",
        "  print(f\"{clave} -> {valor}\")\n",
        "\n",
        "# Determinar si hay un alto nivel de insatisfaccion\n",
        "# Se considera un alto total si 1 y 2 superan el 30%\n",
        "\n",
        "totalEncuestas= len(respuestasEncuestas)\n",
        "\n",
        "contador_1 = contadorSatisfaccion[1]\n",
        "contador_2 = contadorSatisfaccion[2]\n",
        "umbral= 0.3\n",
        "\n",
        "insatisfaccion = (contador_1 + contador_2) / totalEncuestas\n",
        "print(insatisfaccion)\n",
        "if insatisfaccion > umbral:\n",
        "  print(\"Hay un alto nivel de insatisfaccion\")\n",
        "else:\n",
        "  print(\"No hay un alto nivel de insatisfaccion\")\n",
        "\n"
      ],
      "metadata": {
        "colab": {
          "base_uri": "https://localhost:8080/"
        },
        "id": "hUJqeJppg8iO",
        "outputId": "95634439-4ddb-4f96-839d-7b61dfeb045f"
      },
      "execution_count": null,
      "outputs": [
        {
          "output_type": "stream",
          "name": "stdout",
          "text": [
            "Resumen de la encuesta\n",
            "1 -> 4\n",
            "2 -> 3\n",
            "3 -> 7\n",
            "4 -> 11\n",
            "5 -> 6\n",
            "4\n",
            "0.22580645161290322\n",
            "No hay un alto nivel de insatisfaccion\n"
          ]
        }
      ]
    },
    {
      "cell_type": "code",
      "source": [
        "# Simulación de ventas mensuales de 30 empleados\n",
        "ventas_empleados = [2362, 2928, 1964, 2978, 2211, 2122, 2844, 2579, 2636, 3215, 2718,\n",
        "                    1961, 2122, 2001, 2102, 2797, 3367, 2398, 2788, 3027, 2124, 3050,\n",
        "                    2276, 3440, 3260, 3382, 3049, 2421, 2789, 2352]\n",
        "\n",
        "objetivoVentas = 2000\n",
        "\n",
        "empleadosMetasAlcanzadas = 0\n",
        "empleadosMetaNoAlncazadas = []\n",
        "indice = 0\n",
        "\n",
        "while indice < len(ventas_empleados):\n",
        "  if ventas_empleados[indice] >= objetivoVentas:\n",
        "    empleadosMetasAlcanzadas += 1\n",
        "  else:\n",
        "    difetencia = objetivoVentas - ventas_empleados[indice]\n",
        "    empleadosMetaNoAlncazadas.append((indice + 1, difetencia))\n",
        "  indice += 1\n",
        "\n",
        "print(f\"Empleados que alcanzo la meta: {empleadosMetasAlcanzadas}\")\n",
        "print(f\"Empleados que no alcanzo la meta: {empleadosMetaNoAlncazadas}\")\n",
        "\n"
      ],
      "metadata": {
        "colab": {
          "base_uri": "https://localhost:8080/"
        },
        "id": "JNmm9bJgl8j8",
        "outputId": "b534bc01-db6e-4bbe-cb2e-3a5ebf931afa"
      },
      "execution_count": null,
      "outputs": [
        {
          "output_type": "stream",
          "name": "stdout",
          "text": [
            "Empleados que alcanzo la meta: 28\n",
            "Empleados que no alcanzo la meta: [(3, 36), (12, 39)]\n"
          ]
        }
      ]
    },
    {
      "cell_type": "markdown",
      "source": [
        "FUNCIONES PYTHON: SON BLOQUES"
      ],
      "metadata": {
        "id": "EHin7qa3rRxD"
      }
    },
    {
      "cell_type": "code",
      "source": [
        "# suma\n",
        "import datetime\n",
        "\n",
        "def suma_numeros(a,b):\n",
        "  return a + b\n",
        "\n",
        "suma = suma_numeros(2,3)\n",
        "print(suma)\n",
        "\n",
        "def imprimir_detalles():\n",
        "  fecha_hoy = datetime.datetime.now()\n",
        "  print(f\"Fecha de hoy: {fecha_hoy}\")\n",
        "\n",
        "imprimir_detalles()"
      ],
      "metadata": {
        "colab": {
          "base_uri": "https://localhost:8080/"
        },
        "id": "CAdhWbsGrZXm",
        "outputId": "3610f0d6-f0da-41ee-94c0-798d8d4ffb7f"
      },
      "execution_count": null,
      "outputs": [
        {
          "output_type": "stream",
          "name": "stdout",
          "text": [
            "5\n",
            "Fecha de hoy: 2025-05-29 15:36:58.581796\n"
          ]
        }
      ]
    },
    {
      "cell_type": "markdown",
      "source": [
        " Temas vistos en el capítulo:\n",
        "\n",
        "Funciones\n",
        "Clases\n",
        "👉 Caso práctico: Gestión de Inventario\n",
        "\n",
        "Trabajas en el departamento de logística y necesitas un sistema para gestionar el inventario de productos. Este sistema debe permitirte agregar productos, actualizar la cantidad de cada producto y mostrar un resumen del inventario."
      ],
      "metadata": {
        "id": "Yl0I3-gwRrsi"
      }
    },
    {
      "cell_type": "code",
      "source": [
        "# Clases para gestionar el inventario\n",
        "\n",
        "class Inventario:\n",
        "  def __init__(self):\n",
        "    # Necesitamos un inventario para almacenar los productos\n",
        "    self.productos={}\n",
        "\n",
        "  def agregarProductos(self, producto, cantidad):\n",
        "    if producto in self.productos:\n",
        "      self.productos[producto] += cantidad\n",
        "    else:\n",
        "      self.productos[producto] = cantidad\n",
        "\n",
        "  def actualizarCantidad(self, producto, cantidad):\n",
        "    if producto in self.productos:\n",
        "      self.productos[producto] = cantidad\n",
        "    else:\n",
        "      print(f\"El producto {producto} no existe en el inventario.\")\n",
        "\n",
        "\n",
        "  def mostrarInventario(self):\n",
        "    #Imprimir el inventario\n",
        "    for producto, cantidad in self.productos.items():\n",
        "      print(f\"Producto: {producto}: Cantidad {cantidad}\")\n",
        "\n",
        "# Mostrar resumen inventario\n",
        "\n",
        "def mostraResumen(inventario):\n",
        "  print(\"Resumen de Inventario\")\n",
        "  inventario.mostrarInventario()\n",
        "\n",
        "inventario = Inventario()\n",
        "\n",
        "inventario.agregarProductos(\"Camiseta\", 35000)\n",
        "inventario.agregarProductos(\"Pantalón\", 60000)\n",
        "inventario.agregarProductos(\"Zapatos\", 120000)\n",
        "inventario.agregarProductos(\"Bolso\", 80000)\n",
        "inventario.agregarProductos(\"Gorra\", 30000)\n",
        "\n",
        "inventario.actualizarCantidad(\"Camiseta\", 45000)\n",
        "\n",
        "mostraResumen(inventario)"
      ],
      "metadata": {
        "id": "Men7b_hcseu-",
        "colab": {
          "base_uri": "https://localhost:8080/"
        },
        "outputId": "15849f00-1b03-457d-e626-6bc0305fd9f4"
      },
      "execution_count": null,
      "outputs": [
        {
          "output_type": "stream",
          "name": "stdout",
          "text": [
            "Resumen de Inventario\n",
            "Producto: Camiseta: Cantidad 45000\n",
            "Producto: Pantalón: Cantidad 60000\n",
            "Producto: Zapatos: Cantidad 120000\n",
            "Producto: Bolso: Cantidad 80000\n",
            "Producto: Gorra: Cantidad 30000\n"
          ]
        }
      ]
    },
    {
      "cell_type": "code",
      "source": [
        "numero = int(input(\"Ingrese un numero: \"))\n",
        "if numero < 0:\n",
        "    print(\"El numero es negativo\")\n",
        "elif numero == 0:\n",
        "    print(\"El numero es cero\")\n",
        "else:\n",
        "    print(\"El numero es positivo\")"
      ],
      "metadata": {
        "colab": {
          "base_uri": "https://localhost:8080/"
        },
        "id": "-9M-4Z2leh8i",
        "outputId": "d5bfd1a5-faad-4e58-9f0b-8103f0122952"
      },
      "execution_count": null,
      "outputs": [
        {
          "output_type": "stream",
          "name": "stdout",
          "text": [
            "Ingrese un numero: 0\n",
            "El numero es cero\n"
          ]
        }
      ]
    },
    {
      "cell_type": "code",
      "source": [
        "# @title Texto de título predeterminado\n",
        "\n",
        "dia_Semana = int(input(\"Ingrese un numero del 1 al 7: \"))\n",
        "\n",
        "while dia_Semana not in [1,2,3,4,5,6,7]:\n",
        "  print(\"Dia no valido\")\n",
        "  dia_Semana = int(input(\"Ingrese un numero del 1 al 7: \"))\n",
        "\n",
        "match dia_Semana:\n",
        "    case 1:\n",
        "      print(\"Lunes\")\n",
        "    case 2:\n",
        "      print(\"Martes\")\n",
        "    case 3:\n",
        "      print(\"Miercoles\")\n",
        "    case 4:\n",
        "      print(\"Jueves\")\n",
        "    case 5:\n",
        "      print(\"Viernes\")\n",
        "    case 6:\n",
        "      print(\"Sabado\")\n",
        "    case 7:\n",
        "      print(\"Domingo\")\n",
        "\n",
        "\n",
        "\n"
      ],
      "metadata": {
        "colab": {
          "base_uri": "https://localhost:8080/"
        },
        "id": "IIjSViCjfP7E",
        "outputId": "9451d354-ec04-461a-ffaf-fca92b013800"
      },
      "execution_count": null,
      "outputs": [
        {
          "output_type": "stream",
          "name": "stdout",
          "text": [
            "Ingrese un numero del 1 al 7: -8\n",
            "Dia no valido\n",
            "Ingrese un numero del 1 al 7: 9\n",
            "Dia no valido\n",
            "Ingrese un numero del 1 al 7: 1\n",
            "Lunes\n"
          ]
        }
      ]
    },
    {
      "cell_type": "code",
      "source": [
        "numero_1 = int(input(\"Ingrese un primer numero: \"))\n",
        "numero_2 = int(input(\"Ingrese un segundo numero: \"))\n",
        "\n",
        "if numero_1 and numero_2 > 0:\n",
        "  print(True)\n",
        "else:\n",
        "  print(False)"
      ],
      "metadata": {
        "colab": {
          "base_uri": "https://localhost:8080/"
        },
        "id": "_LoNifKThnuF",
        "outputId": "3bada80c-16e1-45d3-bc5f-4760411297d6"
      },
      "execution_count": null,
      "outputs": [
        {
          "output_type": "stream",
          "name": "stdout",
          "text": [
            "Ingrese un primer numero: -5\n",
            "Ingrese un segundo numero: -8\n",
            "False\n"
          ]
        }
      ]
    },
    {
      "cell_type": "code",
      "source": [
        "numero_usario = int(input(\"Ingrese un numero: \"))\n",
        "lista_numero = [1,2,3,4,5,6,7,8,9,10]\n",
        "\n",
        "for numero in lista_numero:\n",
        "  if numero_usario in lista_numero:\n",
        "    print(f\"Su numero {numero_usario} se encuentra en la lista\")\n",
        "    break\n",
        "  else:\n",
        "    print(f\"Su numero {numero_usario} no esta en la lista\")\n",
        "    break\n",
        "\n"
      ],
      "metadata": {
        "colab": {
          "base_uri": "https://localhost:8080/"
        },
        "id": "-7GCuEwbi2dB",
        "outputId": "ee2959c2-6e3f-4644-e41c-751ddfcc9e88"
      },
      "execution_count": null,
      "outputs": [
        {
          "output_type": "stream",
          "name": "stdout",
          "text": [
            "Ingrese un numero: 55\n",
            "Su numero 55 no esta en la lista\n"
          ]
        }
      ]
    },
    {
      "cell_type": "code",
      "source": [
        "contador = 0\n",
        "\n",
        "while contador < 10:\n",
        "  contador += 1\n",
        "  print(contador)"
      ],
      "metadata": {
        "colab": {
          "base_uri": "https://localhost:8080/"
        },
        "id": "MDz4Xqy5kJ53",
        "outputId": "7987e3ad-9709-4ced-881a-fee8523c889d"
      },
      "execution_count": null,
      "outputs": [
        {
          "output_type": "stream",
          "name": "stdout",
          "text": [
            "1\n",
            "2\n",
            "3\n",
            "4\n",
            "5\n",
            "6\n",
            "7\n",
            "8\n",
            "9\n",
            "10\n"
          ]
        }
      ]
    },
    {
      "cell_type": "code",
      "source": [
        "diccionario = {\n",
        "    \"Colombia\": \"Bogota\",\n",
        "    \"Peru\": \"Lima\",\n",
        "    \"Mexico\": \"Mexico DF\",\n",
        "    \"Ecuador\": \"Quito\",\n",
        "    \"Argentina\": \"Buenos Aires\"\n",
        "}\n",
        "\n",
        "pais=input(\"Ingrese un pais: \")\n",
        "encontrado = False\n",
        "\n",
        "for paises in diccionario:\n",
        "  if paises.lower() == pais.lower():\n",
        "    print(f\"La capital de {paises} es {diccionario[paises]}\")\n",
        "    encontrado=True\n",
        "    break\n",
        "\n",
        "\n",
        "if not encontrado:\n",
        "  print(f\"No se encontro la capital de {pais}\")\n",
        "\n",
        "\n",
        "\n",
        "\n",
        "\n"
      ],
      "metadata": {
        "colab": {
          "base_uri": "https://localhost:8080/"
        },
        "id": "-YrcOR2Vkhrd",
        "outputId": "d5da62f1-679b-4f20-92ba-fcdab394c8ff"
      },
      "execution_count": null,
      "outputs": [
        {
          "output_type": "stream",
          "name": "stdout",
          "text": [
            "Ingrese un pais: francia\n",
            "No se encontro la capital de francia\n"
          ]
        }
      ]
    },
    {
      "cell_type": "code",
      "source": [
        "expresion = \"5 + 3\"\n",
        "\n",
        "def evaluar_expresion(expr):\n",
        "  expresion = expr.split()\n",
        "  match expresion:\n",
        "    case [str(a), '+', str(b)]:\n",
        "      return int(a) + int(b)\n",
        "    case [str(a), '-', str(b)]:\n",
        "      return int(a) - int(b)\n",
        "    case [str(a), '*', str(b)]:\n",
        "      return int(a) * int(b)\n",
        "\n",
        "  return expresion\n",
        "\n",
        "print(evaluar_expresion(expresion))\n",
        "\n",
        "\n"
      ],
      "metadata": {
        "colab": {
          "base_uri": "https://localhost:8080/"
        },
        "id": "3tMTjHVRypIl",
        "outputId": "14fb4502-fc60-4813-96a6-23511738693e"
      },
      "execution_count": null,
      "outputs": [
        {
          "output_type": "stream",
          "name": "stdout",
          "text": [
            "8\n"
          ]
        }
      ]
    },
    {
      "cell_type": "code",
      "source": [
        "numeros = [-1, 91, 1, 45, 23, 89, 2, 10, 3]\n",
        "\n",
        "max_num = numeros[0]\n",
        "min_num = numeros[0]\n",
        "\n",
        "for numero in numeros:\n",
        "  if numero > max_num:\n",
        "    max_num = numero\n",
        "  if numero < min_num:\n",
        "    min_num = numero\n",
        "\n",
        "print(f\"El numero maximo es {max_num} y el numero minimo es {min_num}\")\n"
      ],
      "metadata": {
        "colab": {
          "base_uri": "https://localhost:8080/"
        },
        "id": "CqdLJv0W53bz",
        "outputId": "300dc472-4de9-4b65-9092-b31b21e609bd"
      },
      "execution_count": null,
      "outputs": [
        {
          "output_type": "stream",
          "name": "stdout",
          "text": [
            "El numero maximo es 91 y el numero minimo es -1\n"
          ]
        }
      ]
    },
    {
      "cell_type": "code",
      "source": [
        "lista_numero = [1,2,3,4,5,6,7,8,9,10]\n",
        "nuemero_pares = []\n",
        "for numero in lista_numero:\n",
        "  if numero % 2 == 0:\n",
        "    nuemero_pares.append(numero)\n",
        "print(nuemero_pares)\n"
      ],
      "metadata": {
        "colab": {
          "base_uri": "https://localhost:8080/"
        },
        "id": "eJ-GAUru6z1s",
        "outputId": "d84b432b-9644-49bd-9f8a-62a2f76108f0"
      },
      "execution_count": null,
      "outputs": [
        {
          "output_type": "stream",
          "name": "stdout",
          "text": [
            "[2, 4, 6, 8, 10]\n"
          ]
        }
      ]
    },
    {
      "cell_type": "code",
      "source": [
        "def es_primo(numero):\n",
        "  if numero < 2:\n",
        "    print(f\"{numero} no es un numero primo\")\n",
        "  for i in range(2,numero):\n",
        "    if numero %i == 0:\n",
        "      print(f\"{numero} no es un numero primo\")\n",
        "      return\n",
        "    else:\n",
        "      print(f\"{numero} es un numero primo\")\n",
        "      return\n",
        "\n",
        "es_primo(29)\n",
        "\n"
      ],
      "metadata": {
        "colab": {
          "base_uri": "https://localhost:8080/"
        },
        "id": "Hzsbuotx75qU",
        "outputId": "58401b99-66d9-4e75-ad7e-41af9c87d5dc"
      },
      "execution_count": null,
      "outputs": [
        {
          "output_type": "stream",
          "name": "stdout",
          "text": [
            "29 es un numero primo\n"
          ]
        }
      ]
    },
    {
      "cell_type": "code",
      "source": [
        "numero = 5\n",
        "\n",
        "for i in range(1,11):\n",
        "  print(f\"{numero} X {i} = {numero * i}\")\n"
      ],
      "metadata": {
        "colab": {
          "base_uri": "https://localhost:8080/"
        },
        "id": "wBxlV-yU9SHX",
        "outputId": "905b6757-a2a3-4ab2-f740-cce6f037c60b"
      },
      "execution_count": null,
      "outputs": [
        {
          "output_type": "stream",
          "name": "stdout",
          "text": [
            "5 X 1 = 5\n",
            "5 X 2 = 10\n",
            "5 X 3 = 15\n",
            "5 X 4 = 20\n",
            "5 X 5 = 25\n",
            "5 X 6 = 30\n",
            "5 X 7 = 35\n",
            "5 X 8 = 40\n",
            "5 X 9 = 45\n",
            "5 X 10 = 50\n"
          ]
        }
      ]
    },
    {
      "cell_type": "code",
      "source": [
        "def factorial(n):\n",
        "  resultado = 1\n",
        "  while n>1:\n",
        "    resultado = n * resultado\n",
        "    n -= 1\n",
        "  return resultado\n",
        "\n",
        "print(factorial(5))\n"
      ],
      "metadata": {
        "colab": {
          "base_uri": "https://localhost:8080/"
        },
        "id": "UhtQW3vEJTNh",
        "outputId": "60122e53-fcac-44ad-c20a-754a64e26a90"
      },
      "execution_count": null,
      "outputs": [
        {
          "output_type": "stream",
          "name": "stdout",
          "text": [
            "120\n"
          ]
        }
      ]
    },
    {
      "cell_type": "code",
      "source": [
        "def secuencia_fiboonacci(num):\n",
        "  if num <= 0:\n",
        "    return \"El numero debe ser positivo\"\n",
        "  elif num == 1:\n",
        "    return [0]\n",
        "  elif num == 2:\n",
        "    return [0,1]\n",
        "  elif num > 2:\n",
        "    secuencia = [0,1]\n",
        "    i=2\n",
        "    while i <= num:\n",
        "      siguiente_numero = secuencia[-1] + secuencia[-2]\n",
        "      secuencia.append(siguiente_numero)\n",
        "      i += 1\n",
        "    return secuencia\n",
        "\n",
        "print(secuencia_fiboonacci(10))"
      ],
      "metadata": {
        "colab": {
          "base_uri": "https://localhost:8080/"
        },
        "id": "SFkqSRikKNhJ",
        "outputId": "80dac19c-376c-468f-dc01-5184943a055c"
      },
      "execution_count": null,
      "outputs": [
        {
          "output_type": "stream",
          "name": "stdout",
          "text": [
            "[0, 1, 1, 2, 3, 5, 8, 13, 21, 34, 55]\n"
          ]
        }
      ]
    },
    {
      "cell_type": "code",
      "source": [
        "def calcular_media(list):\n",
        "  suma = 0\n",
        "  for numero in list:\n",
        "    suma = suma + numero\n",
        "  promedio = suma / len(list)\n",
        "  return promedio\n",
        "\n",
        "print(calcular_media([1,2,3,4,5]))\n"
      ],
      "metadata": {
        "colab": {
          "base_uri": "https://localhost:8080/"
        },
        "id": "AoDVxUpALm8H",
        "outputId": "11cbd948-7128-4fcc-ea36-a0644948cf36"
      },
      "execution_count": null,
      "outputs": [
        {
          "output_type": "stream",
          "name": "stdout",
          "text": [
            "3.0\n"
          ]
        }
      ]
    },
    {
      "cell_type": "code",
      "source": [
        "def obtener_notas():\n",
        "  #Funcion para obtener las notas del usuario\n",
        "  notas= []\n",
        "  for i in range(3):\n",
        "    nota = float(input(f\"Ingrese la nota {i+1}: \"))\n",
        "    notas.append(nota)\n",
        "  return notas\n",
        "\n",
        "def calcular_promedio(list):\n",
        "  suma = 0\n",
        "  for numero in list:\n",
        "    suma = suma + numero\n",
        "  promedio = suma / len(list)\n",
        "  return promedio\n",
        "\n",
        "def determinar_situacion_academica(promedio):\n",
        "  if promedio >= 6:\n",
        "    return \"Aprobado\"\n",
        "  else:\n",
        "    return \"Reprobado\"\n",
        "\n",
        "\n",
        "\n",
        "\n",
        "\n"
      ],
      "metadata": {
        "colab": {
          "base_uri": "https://localhost:8080/",
          "height": 35
        },
        "id": "GVv9YeOGMU2C",
        "outputId": "b4a9a570-8aff-4916-8094-9badc9ba2182"
      },
      "execution_count": null,
      "outputs": [
        {
          "output_type": "execute_result",
          "data": {
            "text/plain": [
              "'Aprobado'"
            ],
            "application/vnd.google.colaboratory.intrinsic+json": {
              "type": "string"
            }
          },
          "metadata": {},
          "execution_count": 93
        }
      ]
    },
    {
      "cell_type": "code",
      "source": [
        "print(\"Bienvenido a la evalcuacion de notas\")\n",
        "notas = obtener_notas()\n",
        "promedio = calcular_promedio(notas)\n",
        "situacion = determinar_situacion_academica(promedio)\n",
        "print(f\"Su promedio es {promedio:.2f} y usted esta {situacion}\")\n",
        "#"
      ],
      "metadata": {
        "colab": {
          "base_uri": "https://localhost:8080/"
        },
        "id": "ATcNHuqEPP2U",
        "outputId": "558414a2-5daa-473d-8971-6907daf39036"
      },
      "execution_count": null,
      "outputs": [
        {
          "output_type": "stream",
          "name": "stdout",
          "text": [
            "Bienvenido a la evalcuacion de notas\n",
            "Ingrese la nota 1: 7\n",
            "Ingrese la nota 2: 8\n",
            "Ingrese la nota 3: 6\n",
            "Su promedio es 7.00 y usted esta Aprobado\n"
          ]
        }
      ]
    },
    {
      "cell_type": "code",
      "source": [
        "lista = [1,2,3,4,5]\n",
        "cadena = \"PYTHON\"\n",
        "print(lista[::-1])"
      ],
      "metadata": {
        "colab": {
          "base_uri": "https://localhost:8080/"
        },
        "id": "m5yKigWbMuXs",
        "outputId": "d9bac735-7611-4a1f-acf9-ef5996290693"
      },
      "execution_count": null,
      "outputs": [
        {
          "output_type": "stream",
          "name": "stdout",
          "text": [
            "[5, 4, 3, 2, 1]\n",
            "NOHTYP\n"
          ]
        }
      ]
    },
    {
      "cell_type": "code",
      "source": [
        "primero, * resto = [1,2,3,4,5]\n",
        "print(primero)\n",
        "print(resto)"
      ],
      "metadata": {
        "colab": {
          "base_uri": "https://localhost:8080/"
        },
        "id": "pgmsoNs4NMX5",
        "outputId": "f654dca0-f391-426e-a6b5-1ccced48792b"
      },
      "execution_count": null,
      "outputs": [
        {
          "output_type": "stream",
          "name": "stdout",
          "text": [
            "1\n",
            "[2, 3, 4, 5]\n"
          ]
        }
      ]
    },
    {
      "cell_type": "code",
      "source": [
        "matriz = [[j**2 for j in range (3)]for i in range(4)]\n",
        "print(matriz)"
      ],
      "metadata": {
        "colab": {
          "base_uri": "https://localhost:8080/"
        },
        "id": "Z04nNiiKNkFf",
        "outputId": "6f5e1697-86fb-4e0c-fad4-1992f02a1090"
      },
      "execution_count": null,
      "outputs": [
        {
          "output_type": "stream",
          "name": "stdout",
          "text": [
            "[[0, 1, 4], [0, 1, 4], [0, 1, 4], [0, 1, 4]]\n"
          ]
        }
      ]
    },
    {
      "cell_type": "code",
      "source": [
        "nombre = ['Juan', 'Maria', 'Pedro']\n",
        "edades = [25, 30, 35]\n",
        "for nombre, edad in zip(nombre, edades):\n",
        "  print(nombre, edad)"
      ],
      "metadata": {
        "colab": {
          "base_uri": "https://localhost:8080/"
        },
        "id": "7HScfQHFN6lz",
        "outputId": "375f24aa-c5c5-41cd-edd9-8a32233a64de"
      },
      "execution_count": null,
      "outputs": [
        {
          "output_type": "stream",
          "name": "stdout",
          "text": [
            "Juan 25\n",
            "Maria 30\n",
            "Pedro 35\n"
          ]
        }
      ]
    },
    {
      "cell_type": "code",
      "source": [
        "mayores_de_diez = list(filter(lambda x: x > 10, [1,2,3,4,5,6,7,8,9,10,11,12,13,14,15]))\n",
        "print(mayores_de_diez)\n",
        "\n",
        "mayores_de_diez = list(map(lambda x: x > 10, [1,2,3,4,5,6,7,8,9,10,11,12,13,14,15]))\n",
        "print(mayores_de_diez)\n"
      ],
      "metadata": {
        "colab": {
          "base_uri": "https://localhost:8080/"
        },
        "id": "B8qwcEPXOXSR",
        "outputId": "ef8f75d5-367d-4ded-e4b0-ce838ce4bbaa"
      },
      "execution_count": null,
      "outputs": [
        {
          "output_type": "stream",
          "name": "stdout",
          "text": [
            "[11, 12, 13, 14, 15]\n",
            "[False, False, False, False, False, False, False, False, False, False, True, True, True, True, True]\n"
          ]
        }
      ]
    },
    {
      "cell_type": "code",
      "source": [
        "import itertools\n",
        "\n",
        "combinado = list(itertools.chain([1,2,3], [4,5,6]))\n",
        "print(combinado)\n",
        "\n"
      ],
      "metadata": {
        "colab": {
          "base_uri": "https://localhost:8080/"
        },
        "id": "kkzi8oh4O5VJ",
        "outputId": "1f33025a-de26-40c1-edb4-05e5194d4c06"
      },
      "execution_count": null,
      "outputs": [
        {
          "output_type": "stream",
          "name": "stdout",
          "text": [
            "[1, 2, 3, 4, 5, 6]\n"
          ]
        }
      ]
    },
    {
      "cell_type": "code",
      "source": [
        "def f(ht):\n",
        "  b = 1\n",
        "  for elt in ht:\n",
        "    b= elt * b\n",
        "  return b\n",
        "\n",
        "print (f([2,3,4]))\n",
        "\n",
        "\n",
        "\n",
        "def n(a):\n",
        "  return (a%2)==0\n",
        "\n",
        "def p(k):\n",
        "  return not n(k)\n",
        "\n",
        "print(p(2))\n",
        "\n",
        "for x in range(0,6):\n",
        "  print(x)\n",
        "\n",
        "\n",
        "index = 0\n",
        "\n",
        "while index <=6:\n",
        "  print(index)\n",
        "  index = index +1\n",
        "\n"
      ],
      "metadata": {
        "id": "RyLqrLbzPYI3",
        "colab": {
          "base_uri": "https://localhost:8080/"
        },
        "outputId": "cd4cacbf-ab82-40fd-dc6f-927f41268a28"
      },
      "execution_count": null,
      "outputs": [
        {
          "output_type": "stream",
          "name": "stdout",
          "text": [
            "24\n",
            "False\n",
            "0\n",
            "1\n",
            "2\n",
            "3\n",
            "4\n",
            "5\n",
            "0\n",
            "1\n",
            "2\n",
            "3\n",
            "4\n",
            "5\n",
            "6\n"
          ]
        }
      ]
    },
    {
      "cell_type": "code",
      "source": [
        "f\n",
        "class Star:\n",
        "  def __init__(self , name):\n",
        "    self.name = name\n",
        "\n",
        "class Jedi (Star):\n",
        "  def __init__(self, name,midch):\n",
        "    super().__init__(name)\n",
        "    self.midch = midch\n",
        "\n",
        "anakin = Jedi(\"Anakin\", 10000)\n",
        "\n",
        "\n",
        "print(anakin.name)\n",
        "print(anakin.midch)\n",
        "\n",
        "caracteres = [Jedi('anakin', 10000), Jedi('cheeki',2000)]\n",
        "\n",
        "sum = 0\n",
        "\n",
        "for character in caracteres:\n",
        "  sum = sum + character.midch\n",
        "\n",
        "print(sum)\n",
        "\n",
        "\n",
        "\n",
        "def f(string):\n",
        "  vowels = set('aeiou')\n",
        "  normalized = string.lower()\n",
        "  return normalized[0] in vowels\n",
        "\n",
        "print(f('tuyaa'))"
      ],
      "metadata": {
        "colab": {
          "base_uri": "https://localhost:8080/"
        },
        "id": "PVQpEN3T0Yfk",
        "outputId": "a08a77cb-1c50-46c8-ca80-4db050d5f07f"
      },
      "execution_count": null,
      "outputs": [
        {
          "output_type": "stream",
          "name": "stdout",
          "text": [
            "Anakin\n",
            "10000\n",
            "12000\n",
            "False\n"
          ]
        }
      ]
    },
    {
      "cell_type": "markdown",
      "source": [
        "# **Manipulación avanzada de listas.**\n",
        "\n",
        "Objetivo: Escribe un programa que realice las siguientes operaciones en una lista de números:\n",
        "\n",
        "Agregar un número al final de la lista.\n",
        "\n",
        "Insertar un número en una posición específica.\n",
        "\n",
        "Eliminar el primer número de la lista.\n",
        "\n",
        "Encontrar y eliminar un número específico de la lista.\n",
        "\n",
        "Ordenar la lista en orden ascendente.\n",
        "\n",
        "Invertir la lista.\n",
        "\n",
        "Descripción de la solución: En Python, las listas son estructuras de datos versátiles que permiten realizar diversas operaciones. Tu programa debe realizar varias manipulaciones en una lista, como agregar, insertar, eliminar, encontrar y ordenar elementos. Utiliza la lista inicial: [4, 8, 15, 16, 23, 42]."
      ],
      "metadata": {
        "id": "2PwwTMoE4k0d"
      }
    },
    {
      "cell_type": "code",
      "source": [
        "#Agregar un numero al final de la lista\n",
        "lista=[]\n",
        "while True:\n",
        "  numero_ingresado = input(\"Ingrese un numero \")\n",
        "  if numero_ingresado == \"salir\":\n",
        "    print(\"Adios\")\n",
        "    break\n",
        "  else:\n",
        "    numero_ingresado = int(numero_ingresado)\n",
        "    lista.append(numero_ingresado)\n",
        "\n",
        "print(lista)\n",
        "\n",
        "#Insertar un numero en una posicion especifica\n",
        "\n",
        "numeroInsertar = int(input(\"Ingrese un numero a insertar: \"))\n",
        "posicion = int(input(\"Ingrese la posicion en la que desea insertar el numero: \"))\n",
        "\n",
        "lista.insert(posicion, numeroInsertar)\n",
        "print(\"Insertar numero de la lista\")\n",
        "print(lista)\n",
        "\n",
        "del lista[0]\n",
        "print(\"Eliminar el primer numero de la lista\")\n",
        "print(lista)\n",
        "\n",
        "print(\"Encontrar numero y eliminar\")\n",
        "numeroEliminar = int(input(\"Ingrese el numero a eliminar: \"))\n",
        "lista.remove(numeroEliminar)\n",
        "print(lista)\n",
        "\n",
        "print(\"Ordenar la lista en orden ascendente\")\n",
        "lista.sort()\n",
        "print(lista)\n",
        "\n",
        "print(\"Invertir la lista\")\n",
        "lista.reverse()\n",
        "print(lista)"
      ],
      "metadata": {
        "colab": {
          "base_uri": "https://localhost:8080/"
        },
        "id": "LyGx-zjxywdN",
        "outputId": "1eafc839-1d3d-4ee9-b6bd-119a306902d4"
      },
      "execution_count": null,
      "outputs": [
        {
          "output_type": "stream",
          "name": "stdout",
          "text": [
            "Ingrese un numero 5\n",
            "Ingrese un numero 6\n",
            "Ingrese un numero 8\n",
            "Ingrese un numero 9\n",
            "Ingrese un numero 6\n",
            "Ingrese un numero 5\n",
            "Ingrese un numero salir\n",
            "Adios\n",
            "[5, 6, 8, 9, 6, 5]\n",
            "Ingrese un numero a insertar: 5\n",
            "Ingrese la posicion en la que desea insertar el numero: 2\n",
            "Insertar numero de la lista\n",
            "[5, 6, 5, 8, 9, 6, 5]\n",
            "Eliminar el primer numero de la lista\n",
            "[6, 5, 8, 9, 6, 5]\n",
            "Encontrar numero y eliminar\n",
            "Ingrese el numero a eliminar: 8\n",
            "[6, 5, 9, 6, 5]\n",
            "Ordenar la lista en orden ascendente\n",
            "[5, 5, 6, 6, 9]\n",
            "Invertir la lista\n",
            "[9, 6, 6, 5, 5]\n"
          ]
        }
      ]
    },
    {
      "cell_type": "markdown",
      "source": [],
      "metadata": {
        "id": "vQkuSSKbziFm"
      }
    },
    {
      "cell_type": "markdown",
      "source": [
        "**Manipulación avanzada de tuplas.**\n",
        "**Objetivo:** Escribe un programa que realice las siguientes operaciones utilizando tuplas:\n",
        "\n",
        "Crear una tupla con los elementos (10, 20, 30, 40, 50).\n",
        "\n",
        "Acceder al tercer elemento de la tupla.\n",
        "\n",
        "Intentar modificar un elemento de la tupla y capturar la excepción.\n",
        "\n",
        "Concatenar la tupla original con otra tupla (60, 70, 80).\n",
        "\n",
        "Verificar si un elemento (por ejemplo, 40) existe en la tupla concatenada.\n",
        "\n",
        "Desempaquetar los primeros tres elementos de la tupla concatenada en variables separadas.\n",
        "\n",
        "Descripción de la solución: En Python, las tuplas son secuencias inmutables que permiten almacenar múltiples elementos. Aunque no se pueden modificar, se pueden realizar varias operaciones útiles. Tu programa debe crear una tupla con los elementos (10, 20, 30, 40, 50) y realizar diversas manipulaciones y operaciones, como acceder a elementos, concatenar tuplas, verificar la existencia de elementos y desempaquetar elementos."
      ],
      "metadata": {
        "id": "Tngp8GxV1gPJ"
      }
    },
    {
      "cell_type": "code",
      "source": [
        "tupla = (10,20,30,40,50)\n",
        "\n",
        "print(\"Acceder al primer elemento\")\n",
        "print(tupla[2])\n",
        "\n",
        "#Intentar modificar un elemento de la tupla y capturar la excepcion\n",
        "\n",
        "try:\n",
        "  tupla[4] = 5\n",
        "except Exception as e:\n",
        "  print(\"ocurrio el error\", e)\n",
        "\n",
        "tupla_1 = (60,70,80)\n",
        "tupla_2 = tupla + tupla_1\n",
        "print(\"Concatenar la tupla original con otra tupla\")\n",
        "print(tupla_2)\n",
        "\n",
        "if 40 in tupla_2:\n",
        "  print(\"El numero 40 existe en la tupla\")\n",
        "else:\n",
        "  print(\"El numero 40 no existe en la tupla\")\n",
        "\n",
        "print(\"Desempaquetar los primeros tres elementos de la tupla concatenada en variables separadas\")\n",
        "primero, segundo, tercero = tupla_2[:3]\n",
        "print(primero, segundo, tercero)"
      ],
      "metadata": {
        "colab": {
          "base_uri": "https://localhost:8080/"
        },
        "id": "5EdvORao1qn0",
        "outputId": "6fe70a5c-6310-4c32-8a2a-7151520f49ba"
      },
      "execution_count": null,
      "outputs": [
        {
          "output_type": "stream",
          "name": "stdout",
          "text": [
            "Acceder al primer elemento\n",
            "30\n",
            "ocurrio el error 'tuple' object does not support item assignment\n",
            "Concatenar la tupla original con otra tupla\n",
            "(10, 20, 30, 40, 50, 60, 70, 80)\n",
            "El numero 40 existe en la tupla\n",
            "Desempaquetar los primeros tres elementos de la tupla concatenada en variables separadas\n",
            "10 20 30\n"
          ]
        }
      ]
    },
    {
      "cell_type": "markdown",
      "source": [
        "**Funciones que devuelven múltiples valores.::**\n",
        "\n",
        "**Objetivo:**\n",
        "\n",
        "Escribe un programa que defina una función que tome una lista de números y devuelva el mínimo, el máximo y el promedio de los números en la lista. Luego, utiliza esta función e imprime los resultados. texto en negrita\n",
        "\n",
        "Descripción de la solución: En Python, una función puede devolver múltiples valores empaquetados en una tupla. Tu programa debe definir una función calcular_estadisticas que reciba una lista de números y devuelva una tupla con el mínimo, el máximo y el promedio de los números en la lista. Luego, debes llamar a esta función con una lista de ejemplo e imprimir los resultados."
      ],
      "metadata": {
        "id": "KCsgm8mY4BkY"
      }
    },
    {
      "cell_type": "code",
      "source": [
        "def calcular_estadistica(lista):\n",
        "  minimo = min(lista)\n",
        "  maximo = max(lista)\n",
        "  promedio = sum(lista) / len(lista)\n",
        "  return minimo, maximo, promedio\n",
        "\n",
        "lista = [4, 8, 15, 16, 23, 42]\n",
        "minimo, maximo, promedio = calcular_estadistica(lista)\n",
        "\n",
        "print(\"Minimo: \", minimo)\n",
        "print(\"Maximo: \", maximo)\n",
        "print(\"Promedio: \", promedio)"
      ],
      "metadata": {
        "colab": {
          "base_uri": "https://localhost:8080/"
        },
        "id": "R7zeSYFg4BXR",
        "outputId": "661427c9-e2d1-44fc-e7c0-bce8a311d5e6"
      },
      "execution_count": null,
      "outputs": [
        {
          "output_type": "stream",
          "name": "stdout",
          "text": [
            "Minimo:  4\n",
            "Maximo:  42\n",
            "Promedio:  18.0\n"
          ]
        }
      ]
    },
    {
      "cell_type": "markdown",
      "source": [
        "\n",
        "**Uso de funciones anónimas (lambda).**\n",
        "\n",
        "**Objetivo:**\n",
        "\n",
        " Escribe un programa que utilice funciones lambda para realizar las siguientes operaciones en una lista de números:\n",
        "\n",
        "Filtrar los números pares.\n",
        "\n",
        "Elevar al cuadrado cada número.\n",
        "\n",
        "Sumar todos los números elevados al cuadrado.\n",
        "\n",
        "**Descripción de la solución:** En Python, las funciones lambda son funciones anónimas pequeñas que se pueden usar para realizar operaciones rápidas. Tu programa debe usar funciones lambda para filtrar, mapear y reducir una lista de números. Utiliza las funciones integradas filter, map y reduce para llevar a cabo estas operaciones."
      ],
      "metadata": {
        "id": "KayintIt5Pq3"
      }
    },
    {
      "cell_type": "code",
      "source": [
        "lista = [2,3,4,5,6,7,8,9,10]\n",
        "\n",
        "filtrar = list(filter(lambda x: x % 2 == 0, lista))\n",
        "print(\"Filtrar los numeros pares\")\n",
        "print(filtrar)\n",
        "\n",
        "cuadrado = list(map(lambda x : x ** 2, lista))\n",
        "print(\"Elevar al cuadrado cada numero\")\n",
        "print(cuadrado)\n",
        "\n",
        "suma = sum(map(lambda x: x**2, lista))\n",
        "print(\"Sumar todos los numeros elevados al cuadrado\")\n",
        "print(suma)\n"
      ],
      "metadata": {
        "colab": {
          "base_uri": "https://localhost:8080/"
        },
        "id": "h-3dFzmv5W3B",
        "outputId": "b84fd016-7f04-4381-acc7-3b821a182559"
      },
      "execution_count": null,
      "outputs": [
        {
          "output_type": "stream",
          "name": "stdout",
          "text": [
            "Filtrar los numeros pares\n",
            "[2, 4, 6, 8, 10]\n",
            "Elevar al cuadrado cada numero\n",
            "[4, 9, 16, 25, 36, 49, 64, 81, 100]\n",
            "Sumar todos los numeros elevados al cuadrado\n",
            "384\n"
          ]
        }
      ]
    },
    {
      "cell_type": "code",
      "source": [
        "class Coche:\n",
        "\n",
        "  def __init__(self, marca, modelo , año):\n",
        "    self.marca = marca\n",
        "    self.modelo = modelo\n",
        "    self.año = año\n",
        "\n",
        "  def acelerar(self):\n",
        "    print(\"Acelerando el coche\")\n",
        "\n",
        "  def frenar(self):\n",
        "    print(\"Frenando el coche\")\n",
        "\n",
        "\n",
        "Coche_1 =  Coche(\"Toyota\", \"Corolla\", 2020)\n",
        "\n",
        "print(Coche_1.marca)\n",
        "print(Coche_1.modelo)\n",
        "print(Coche_1.año)\n",
        "\n",
        "Coche_1.acelerar()\n",
        "Coche_1.frenar()\n",
        "\n"
      ],
      "metadata": {
        "colab": {
          "base_uri": "https://localhost:8080/"
        },
        "id": "q-uqbIi64cfW",
        "outputId": "d6e4a07c-fa15-4cac-8b6c-26b945466ccb"
      },
      "execution_count": null,
      "outputs": [
        {
          "output_type": "stream",
          "name": "stdout",
          "text": [
            "Toyota\n",
            "Corolla\n",
            "2020\n",
            "Acelerando el coche\n",
            "Frenando el coche\n"
          ]
        }
      ]
    },
    {
      "cell_type": "code",
      "source": [
        "estudiantes = {\n",
        "    \"Yamith\": {\"Matematicas\": 5, \"Ciencia\": 4.5, \"Literatura\": 4},\n",
        "    \"Juan\": {\"Matematicas\": 4, \"Ciencia\":3.5, \"Literatura\": 5},\n",
        "    \"Ana\": {\"Matematicas\": 3, \"Ciencia\": 4, \"Literatura\": 4.5}\n",
        "}\n",
        "\n",
        "\n",
        "# Utilizar el método .get para obtener y mostrar la calificación de un estudiante específico en una materia específica.\n",
        "print(\"Obtener y mostrar la calificación de un estudiante específico en una materia específica\")\n",
        "print(f\"la nota del estudiante es: {estudiantes.get('Yamith', {}).get('Matematicas', 'No registra')}\")\n",
        "print(f\"la nota del estudiante es: {estudiantes.get('Yamith', {}).get(' Español', 'No registra')}\")\n",
        "\n",
        "\n"
      ],
      "metadata": {
        "colab": {
          "base_uri": "https://localhost:8080/"
        },
        "id": "kVqvqbuh5-5B",
        "outputId": "6c0ed788-cf30-4732-f704-4139127e2562"
      },
      "execution_count": null,
      "outputs": [
        {
          "output_type": "stream",
          "name": "stdout",
          "text": [
            "Obtener y mostrar la calificación de un estudiante específico en una materia específica\n",
            "la nota del estudiante es: 5\n",
            "la nota del estudiante es: No registra\n"
          ]
        }
      ]
    },
    {
      "cell_type": "markdown",
      "source": [
        "**Manejo de pares clave-valor.**\n",
        "\n",
        "\n",
        "**Objetivo:** Escribe un programa que utilice un diccionario para almacenar información sobre un inventario de productos. El programa debe realizar las siguientes operaciones:\n",
        "\n",
        "Crear un diccionario con información sobre cinco productos y sus cantidades.\n",
        "\n",
        "Añadir dos nuevos productos al diccionario.\n",
        "\n",
        "Actualizar la cantidad de dos productos existentes.\n",
        "\n",
        "Eliminar dos productos del diccionario.\n",
        "\n",
        "Mostrar todos los productos y sus cantidades, ordenados por nombre del producto.\n",
        "\n",
        "Explicación detallada\n",
        "\n",
        "Crear un diccionario con información sobre cinco productos y sus cantidades:\n",
        "\n",
        "Crea un diccionario inventario con cinco productos: \"manzanas\", \"naranjas\", \"bananas\", \"peras\", y \"uvas\", cada uno con una cantidad específica.\n",
        "\n",
        "Muestra el inventario inicial.\n",
        "\n",
        "Añadir dos nuevos productos al diccionario:\n",
        "\n",
        "Añade dos nuevos productos \"kiwis\" con una cantidad de 7 y \"mangos\" con una cantidad de 13 al diccionario inventario.\n",
        "\n",
        "Muestra el inventario después de añadir los nuevos productos.\n",
        "\n",
        "Actualizar la cantidad de dos productos existentes:\n",
        "\n",
        "Actualiza la cantidad de \"manzanas\" a 25 y de \"naranjas\" a 10 en el diccionario inventario.\n",
        "\n",
        "Muestra el inventario después de actualizar las cantidades de \"manzanas\" y \"naranjas\".\n",
        "\n",
        "Eliminar dos productos del diccionario:\n",
        "\n",
        "Elimina los productos \"bananas\" y \"uvas\" del diccionario inventario utilizando el método .pop().\n",
        "\n",
        "Muestra el inventario después de eliminar los productos \"bananas\" y \"uvas\".\n",
        "\n",
        "Mostrar todos los productos y sus cantidades, ordenados por nombre del producto:\n",
        "\n",
        "Utiliza un bucle for para iterar sobre los elementos del diccionario inventario, ordenados por nombre del producto, y mostrar cada producto y su cantidad."
      ],
      "metadata": {
        "id": "B5wVq3h8EuWU"
      }
    },
    {
      "cell_type": "code",
      "source": [
        "inventario =  {\n",
        "    \"Manzanas\": 10,\n",
        "    \"Naranjas\": 15,\n",
        "    \"Bananas\": 20,\n",
        "    \"Peras\": 25,\n",
        "    \"Uvas\": 30\n",
        " }\n",
        "print(\"Inventario inicial \")\n",
        "print(\"Producto   |   cantidad  \")\n",
        "print(\"-\"*30)\n",
        "\n",
        "for producto, cantidad in inventario.items():\n",
        "  print(f\"{producto:<10} : {cantidad}\")\n",
        "\n",
        "inventario.update({\"Kiwis\": 7, \"Mangos\": 13})\n",
        "print(\"Añadir dos nuevos productos al diccionario\")\n",
        "\n",
        "print(\"Producto   |   cantidad  \")\n",
        "print(\"-\"*30)\n",
        "\n",
        "for producto, cantidad in inventario.items():\n",
        "  print(f\"{producto:<10} : {cantidad}\")\n",
        "\n",
        "print(\"Actualizar la cantidad de dos productos existentes\")\n",
        "inventario.update({\"Manzanas\": 25, \"Naranjas\": 10})\n",
        "\n",
        "print(\"Producto   |   cantidad  \")\n",
        "print(\"-\"*30)\n",
        "\n",
        "for producto, cantidad in inventario.items():\n",
        "  print(f\"{producto:<10} : {cantidad}\")\n",
        "\n",
        "print(\"Eliminar dos productos del diccionario\")\n",
        "inventario.pop(\"Bananas\")\n",
        "inventario.pop(\"Uvas\")\n",
        "\n",
        "print(\"Producto   |   cantidad  \")\n",
        "print(\"-\"*30)\n",
        "\n",
        "for producto, cantidad in inventario.items():\n",
        "  print(f\"{producto:<10} : {cantidad}\")\n",
        "\n",
        "\n",
        "ordenar = dict(sorted(inventario.items(), key = lambda x : x[0]))\n",
        "\n",
        "print(\"Mostrar todos los productos y sus cantidades, ordenados por nombre del producto\")\n",
        "print(\"Producto   |   cantidad  \")\n",
        "print(\"-\"*30)\n",
        "\n",
        "for producto, cantidad in ordenar.items():\n",
        "  print(f\"{producto:<10} : {cantidad}\")\n"
      ],
      "metadata": {
        "colab": {
          "base_uri": "https://localhost:8080/"
        },
        "id": "XtEkq6kYEyWc",
        "outputId": "60c04587-bc4d-49cb-a2af-cef4ed0746c1"
      },
      "execution_count": null,
      "outputs": [
        {
          "output_type": "stream",
          "name": "stdout",
          "text": [
            "Inventario inicial \n",
            "Producto   |   cantidad  \n",
            "------------------------------\n",
            "Manzanas   : 10\n",
            "Naranjas   : 15\n",
            "Bananas    : 20\n",
            "Peras      : 25\n",
            "Uvas       : 30\n",
            "Añadir dos nuevos productos al diccionario\n",
            "Producto   |   cantidad  \n",
            "------------------------------\n",
            "Manzanas   : 10\n",
            "Naranjas   : 15\n",
            "Bananas    : 20\n",
            "Peras      : 25\n",
            "Uvas       : 30\n",
            "Kiwis      : 7\n",
            "Mangos     : 13\n",
            "Actualizar la cantidad de dos productos existentes\n",
            "Producto   |   cantidad  \n",
            "------------------------------\n",
            "Manzanas   : 25\n",
            "Naranjas   : 10\n",
            "Bananas    : 20\n",
            "Peras      : 25\n",
            "Uvas       : 30\n",
            "Kiwis      : 7\n",
            "Mangos     : 13\n",
            "Eliminar dos productos del diccionario\n",
            "Producto   |   cantidad  \n",
            "------------------------------\n",
            "Manzanas   : 25\n",
            "Naranjas   : 10\n",
            "Peras      : 25\n",
            "Kiwis      : 7\n",
            "Mangos     : 13\n",
            "Mostrar todos los productos y sus cantidades, ordenados por nombre del producto\n",
            "Producto   |   cantidad  \n",
            "------------------------------\n",
            "Kiwis      : 7\n",
            "Mangos     : 13\n",
            "Manzanas   : 25\n",
            "Naranjas   : 10\n",
            "Peras      : 25\n"
          ]
        }
      ]
    },
    {
      "cell_type": "markdown",
      "source": [
        "**Área y perímetro del un rectángulo definiendo una clase.**\n",
        "\n",
        "**Objetivo:** Escribe un programa que defina una clase llamada Rectangulo con atributos y métodos para calcular el área y el perímetro de un rectángulo. El programa debe:\n",
        "\n",
        "Definir la clase Rectangulo con los atributos ancho y alto.\n",
        "\n",
        "Incluir un método area que calcule el área del rectángulo.\n",
        "\n",
        "Incluir un método perimetro que calcule el perímetro del rectángulo.\n",
        "\n",
        "Crear instancias de la clase Rectangulo y utilizar sus métodos.\n",
        "\n",
        "Añadir un método es_cuadrado que verifique si el rectángulo es un cuadrado.\n",
        "\n",
        "Explicación detallada\n",
        "\n",
        "Definir la clase Rectangulo:\n",
        "\n",
        "La clase Rectangulo se define con el método __init__ para inicializar los atributos ancho y alto cuando se crea una instancia de la clase.\n",
        "\n",
        "Método area:\n",
        "\n",
        "Este método calcula el área del rectángulo multiplicando ancho por alto.\n",
        "\n",
        "Método perimetro:\n",
        "\n",
        "Este método calcula el perímetro del rectángulo utilizando la fórmula 2 * (ancho + alto).\n",
        "\n",
        "Método es_cuadrado:\n",
        "\n",
        "Este método verifica si el rectángulo es un cuadrado comprobando si ancho es igual a alto.\n",
        "\n",
        "Crear instancias de la clase Rectangulo:\n",
        "\n",
        "Se crean dos instancias de la clase Rectangulo con diferentes valores para los atributos.\n",
        "\n",
        "Utilizar los métodos de las instancias de Rectangulo:\n",
        "\n",
        "Se llaman los métodos area, perimetro, y es_cuadrado en las instancias creadas para mostrar el área, el perímetro, y si el rectángulo es un cuadrado."
      ],
      "metadata": {
        "id": "e_MnpJP7JMz_"
      }
    },
    {
      "cell_type": "code",
      "source": [
        "class Rectangulo:\n",
        "  def __init__(self, ancho, alto):\n",
        "    self.ancho = ancho\n",
        "    self.alto = alto\n",
        "\n",
        "  def area(self):\n",
        "    return self.ancho * self.alto\n",
        "\n",
        "  def perimetro(self):\n",
        "    return 2 *(self.ancho + self.alto)\n",
        "\n",
        "  def es_cuadrado(self):\n",
        "    if self.ancho == self.alto:\n",
        "      return \"Es un cuadrado\"\n",
        "    else:\n",
        "      return \"No es un cuadrado\"\n",
        "\n",
        "\n",
        "rectangulo_1 = Rectangulo(5,10)\n",
        "rectangulo_2 = Rectangulo(10,10)\n",
        "\n",
        "print(\"Area del rectangulo 1: \", rectangulo_1.area())\n",
        "print(\"Perimetro del rectangulo 1: \", rectangulo_1.perimetro())\n",
        "print(rectangulo_1.es_cuadrado())\n",
        "\n",
        "print(\"Area del rectangulo 2: \", rectangulo_2.area())\n",
        "print(\"Perimetro del rectangulo 2: \", rectangulo_2.perimetro())\n",
        "print(rectangulo_2.es_cuadrado())\n"
      ],
      "metadata": {
        "colab": {
          "base_uri": "https://localhost:8080/"
        },
        "id": "_D1TcJOgJQ_p",
        "outputId": "56aa74ea-5a84-43de-8b3e-d846b1576467"
      },
      "execution_count": null,
      "outputs": [
        {
          "output_type": "stream",
          "name": "stdout",
          "text": [
            "Area del rectangulo 1:  50\n",
            "Perimetro del rectangulo 1:  30\n",
            "No es un cuadrado\n",
            "Area del rectangulo 2:  100\n",
            "Perimetro del rectangulo 2:  40\n",
            "Es un cuadrado\n"
          ]
        }
      ]
    },
    {
      "cell_type": "markdown",
      "source": [
        "**Programación orientada a objetos: Polimorfismo**\n",
        "**Objetivo:** Escribe un programa que demuestre el concepto de polimorfismo en Python mediante la creación de una clase base y varias clases derivadas que implementen un método con el mismo nombre pero con comportamientos diferentes. Este ejercicio te ayudará a comprender cómo diferentes clases pueden utilizar un mismo método de formas distintas. El programa debe:\n",
        "\n",
        "Definir una clase base llamada Animal con un método hacer_sonido.\n",
        "\n",
        "Definir dos clases derivadas, Perro y Gato, que hereden de Animal y sobrescriban el método hacer_sonido.\n",
        "\n",
        "Crear instancias de las clases y utilizar el método hacer_sonido.\n",
        "\n",
        "Explicación detallada\n",
        "\n",
        "Clase base Animal:\n",
        "\n",
        "Se define una clase base Animal con un método hacer_sonido que devuelve un mensaje genérico de sonido.\n",
        "\n",
        "Clase derivada Perro:\n",
        "\n",
        "La clase Perro hereda de Animal y sobrescribe el método hacer_sonido para devolver un mensaje específico: \"El perro ladra.\"\n",
        "\n",
        "Clase derivada Gato:\n",
        "\n",
        "La clase Gato hereda de Animal y sobrescribe el método hacer_sonido para devolver un mensaje específico: \"El gato maúlla.\"\n",
        "\n",
        "Demostración de polimorfismo:\n",
        "\n",
        "Se crean instancias de Perro, Gato, y Animal.\n",
        "\n",
        "Se almacenan estas instancias en una lista llamada animales.\n",
        "\n",
        "Se recorre la lista animales y se llama al método hacer_sonido para cada instancia. A pesar de que todas las instancias tienen el mismo método hacer_sonido, el resultado es diferente según la clase de la instancia, lo que demuestra el polimorfismo."
      ],
      "metadata": {
        "id": "Q7UnEaBOb1gS"
      }
    },
    {
      "cell_type": "code",
      "source": [
        "class Animal:\n",
        "  def __init__(self) -> None:\n",
        "    pass\n",
        "\n",
        "  def sonido(self):\n",
        "    return \"Hacer sonido\"\n",
        "\n",
        "class Perro(Animal):\n",
        "  def __init__(self) -> None:\n",
        "    super().__init__()\n",
        "\n",
        "  def sonido(self):\n",
        "    return \"El perro ladra\"\n",
        "\n",
        "class Gato(Animal):\n",
        "  def __init__(self) -> None:\n",
        "    super().__init__()\n",
        "\n",
        "  def sonido(self):\n",
        "    return \"El gato maulla\"\n",
        "\n",
        "\n",
        "Animal_1 = Animal()\n",
        "Perro_1 = Perro()\n",
        "Gato_1 = Gato()\n",
        "\n",
        "animales = [Animal_1, Perro_1, Gato_1]\n",
        "\n",
        "for animal in animales:\n",
        "  print(animal.sonido())"
      ],
      "metadata": {
        "colab": {
          "base_uri": "https://localhost:8080/"
        },
        "id": "goWhhzIwb6Fr",
        "outputId": "45792955-5a5d-4816-a903-d09c8bd59231"
      },
      "execution_count": null,
      "outputs": [
        {
          "output_type": "stream",
          "name": "stdout",
          "text": [
            "Hacer sonido\n",
            "El perro ladra\n",
            "El gato maulla\n"
          ]
        }
      ]
    },
    {
      "cell_type": "markdown",
      "source": [
        "**Programación orientada a objetos: Herencia**\n",
        "\n",
        "\n",
        "**Objetivo**: Escribe un programa que defina una jerarquía de clases utilizando herencia. Este ejercicio te ayudará a comprender cómo crear una clase base y cómo las clases derivadas pueden heredar atributos y métodos de la clase base. El programa debe:\n",
        "\n",
        "Definir una clase base llamada Vehiculo con atributos y métodos comunes.\n",
        "\n",
        "Definir dos clases derivadas, Coche y Motocicleta, que hereden de Vehiculo.\n",
        "\n",
        "Implementar métodos específicos en las clases derivadas.\n",
        "\n",
        "Crear instancias de las clases y utilizar sus métodos.\n",
        "\n",
        "Explicación detallada\n",
        "\n",
        "Clase base Vehiculo:\n",
        "\n",
        "Se define la clase base Vehiculo con el método __init__ para inicializar los atributos marca, modelo, y año.\n",
        "\n",
        "Los métodos arrancar y detener son métodos comunes que cualquier vehículo puede realizar, por lo que se definen en la clase base.\n",
        "\n",
        "Clase derivada Coche:\n",
        "\n",
        "La clase Coche hereda de Vehiculo utilizando super() para llamar al constructor de la clase base.\n",
        "\n",
        "Se añade un atributo específico llamado puertas para los coches.\n",
        "\n",
        "El método abrir_maletero es específico de los coches y permite abrir el maletero.\n",
        "\n",
        "Clase derivada Motocicleta:\n",
        "\n",
        "La clase Motocicleta también hereda de Vehiculo y utiliza super() para llamar al constructor de la clase base.\n",
        "\n",
        "Se añade un atributo específico llamado tipo para definir el tipo de motocicleta.\n",
        "\n",
        "El método hacer_caballito es específico de las motocicletas y permite realizar un caballito.\n",
        "\n",
        "Crear instancias y utilizar métodos:\n",
        "\n",
        "Se crean instancias de Coche y Motocicleta con sus atributos específicos.\n",
        "\n",
        "Se utilizan los métodos heredados de la clase base (arrancar, detener) y los métodos específicos de las clases derivadas (abrir_maletero, hacer_caballito)."
      ],
      "metadata": {
        "id": "cEnUVdOxIZwZ"
      }
    },
    {
      "cell_type": "code",
      "source": [
        "class Vehiculo:\n",
        "  def __init__(self, marca, modelo, año):\n",
        "    self.marca = marca\n",
        "    self.modelo = modelo\n",
        "    self.año = año\n",
        "\n",
        "\n",
        "  def arrancar(self):\n",
        "        return f\"{self.marca} {self.modelo} ha arrancado.\"\n",
        "\n",
        "  def detener(self):\n",
        "        return f\"{self.marca} {self.modelo} se ha detenido.\"\n",
        "\n",
        "class Coche(Vehiculo):\n",
        "  def __init__(self, marca, modelo, año, puertas):\n",
        "    super().__init__(marca, modelo, año)\n",
        "    self.puertas = puertas\n",
        "\n",
        "  def abrir_maletero(self):\n",
        "      return f\"El maletero del {self.marca} {self.modelo} está abierto.\"\n",
        "\n",
        "\n",
        "\n",
        "class Motocicleta(Vehiculo):\n",
        "  def __init__(self, marca, modelo, año, tipo):\n",
        "    super().__init__(marca, modelo, año)\n",
        "    self.tipo = tipo\n",
        "\n",
        "  def hacer_caballito(self):\n",
        "      return \"El caballito es realizado\"\n",
        "\n",
        "\n",
        "vehiculo_1 = Coche(\"Toyota\", \"Hilux\", 1991 , 4)\n",
        "moto_1 = Motocicleta(\"Honda\", \"CBR\", 2023, \"Deportiva\")\n",
        "\n",
        "\n",
        "print(vehiculo_1.arrancar())\n",
        "print(vehiculo_1.detener())\n",
        "print(vehiculo_1.abrir_maletero())\n",
        "\n",
        "print(moto_1.arrancar())\n",
        "print(moto_1.detener())\n",
        "print(moto_1.hacer_caballito())\n",
        "\n"
      ],
      "metadata": {
        "colab": {
          "base_uri": "https://localhost:8080/"
        },
        "id": "GrV039v2KSV2",
        "outputId": "bc0a8078-eb2e-453d-ece7-cf136db5ab93"
      },
      "execution_count": 14,
      "outputs": [
        {
          "output_type": "stream",
          "name": "stdout",
          "text": [
            "Toyota Hilux ha arrancado.\n",
            "Toyota Hilux se ha detenido.\n",
            "El maletero del Toyota Hilux está abierto.\n",
            "Honda CBR ha arrancado.\n",
            "Honda CBR se ha detenido.\n",
            "El caballito es realizado\n"
          ]
        }
      ]
    },
    {
      "cell_type": "markdown",
      "source": [
        "**Programación orientada a objetos: Gestión de una lista de estudiantes**\n",
        "\n",
        "\n",
        "Objetivo: Escribe un programa que defina dos clases, Estudiante y Clase, con atributos y métodos para manipular una lista de estudiantes. El programa debe:\n",
        "\n",
        "Definir la clase Estudiante con los atributos nombre, edad y nota_final.\n",
        "\n",
        "Definir el método __str__ para mostrar la información del estudiante.\n",
        "\n",
        "Definir la clase Clase con una lista de estudiantes.\n",
        "\n",
        "Incluir métodos en la clase Clase para agregar, eliminar y mostrar estudiantes.\n",
        "\n",
        "Crear instancias de las clases y utilizar sus métodos.\n",
        "\n",
        "Explicación detallada\n",
        "\n",
        "Definir la clase Estudiante:\n",
        "\n",
        "La clase Estudiante se define con el método __init__ para inicializar los atributos nombre, edad y nota_final cuando se crea una instancia de la clase.\n",
        "\n",
        "Método __str__:\n",
        "\n",
        "Este método devuelve una representación en cadena de la información del estudiante.\n",
        "\n",
        "Definir la clase Clase:\n",
        "\n",
        "La clase Clase se define con el método __init__ para inicializar una lista vacía de estudiantes.\n",
        "\n",
        "Método agregar_estudiante:\n",
        "\n",
        "Este método añade una instancia de Estudiante a la lista de estudiantes.\n",
        "\n",
        "Método eliminar_estudiante:\n",
        "\n",
        "Este método elimina un estudiante de la lista basado en el nombre.\n",
        "\n",
        "Método mostrar_estudiantes:\n",
        "\n",
        "Este método recorre la lista de estudiantes y muestra la información de cada uno.\n",
        "\n",
        "Crear instancias de las clases Estudiante y Clase:\n",
        "\n",
        "Se crean tres instancias de la clase Estudiante con diferentes valores para los atributos.\n",
        "\n",
        "Se crea una instancia de la clase Clase y se añaden los estudiantes a la clase utilizando el método agregar_estudiante.\n",
        "\n",
        "Utilizar los métodos de las instancias de Clase:\n",
        "\n",
        "Se muestran los estudiantes agregados, se elimina un estudiante, y se muestran los estudiantes restantes."
      ],
      "metadata": {
        "id": "1Qt6nGzHdJhX"
      }
    },
    {
      "cell_type": "code",
      "source": [
        "class Estudiantes:\n",
        "  def __init__(self, nombre, edad, nota_final):\n",
        "    self.nombre = nombre\n",
        "    self.edad = edad\n",
        "    self.nota_final = nota_final\n",
        "\n",
        "  def __str__(self):\n",
        "    return f\"Nombre: {self.nombre}, Edad: {self.edad}, Nota Final: {self.nota_final}\"\n",
        "\n",
        "\n",
        "class Clase:\n",
        "  def __init__(self):\n",
        "    self.lista_estudiantes = []\n",
        "\n",
        "  def __str__(self):\n",
        "    return f\"Lista de estudiantes: {self.lista_estudiantes}\"\n",
        "\n",
        "  def agregar_estudiante(self,estudiante):\n",
        "    self.lista_estudiantes.append(estudiante)\n",
        "    return f\"Estudiante {estudiante.nombre} agregado\"\n",
        "\n",
        "  def eliminar_estudiante(self, nombre):\n",
        "    for estudiante in self.lista_estudiantes:\n",
        "      if estudiante.nombre == nombre:\n",
        "        self.lista_estudiantes.remove(estudiante)\n",
        "        return f\"Estudiante {nombre} eliminado\"\n",
        "        return f\"Estudiante {nombre} no encontrado\"\n",
        "\n",
        "  def mostrar_estudiante(self):\n",
        "    for estudiante in self.lista_estudiantes:\n",
        "      print(estudiante)\n",
        "\n",
        "\n",
        "\n",
        "\n",
        "estudiante_1 = Estudiantes(\"Yamith\", 34, 5)\n",
        "estudiante_2 = Estudiantes(\"Juan\", 35, 4)\n",
        "estudiante_3 = Estudiantes(\"Ana\", 36, 3)\n",
        "\n",
        "print(estudiante_1)\n",
        "print(estudiante_2)\n",
        "print(estudiante_3)\n",
        "\n",
        "clase_1=Clase()\n",
        "\n",
        "\n",
        "\n",
        "print(clase_1.agregar_estudiante(estudiante_1))\n",
        "print(clase_1.agregar_estudiante(estudiante_2))\n",
        "print(clase_1.agregar_estudiante(estudiante_3))\n",
        "\n",
        "\n",
        "\n",
        "print(clase_1.mostrar_estudiante())\n",
        "\n",
        "print(clase_1.eliminar_estudiante(\"Yamith\"))\n",
        "\n",
        "\n",
        "\n",
        "\n"
      ],
      "metadata": {
        "colab": {
          "base_uri": "https://localhost:8080/"
        },
        "id": "kjAHWqGXdJNx",
        "outputId": "02c95e92-6b7d-43d0-f16e-63986a4e868a"
      },
      "execution_count": 2,
      "outputs": [
        {
          "output_type": "stream",
          "name": "stdout",
          "text": [
            "Nombre: Yamith, Edad: 34, Nota Final: 5\n",
            "Nombre: Juan, Edad: 35, Nota Final: 4\n",
            "Nombre: Ana, Edad: 36, Nota Final: 3\n",
            "Estudiante Yamith agregado\n",
            "Estudiante Juan agregado\n",
            "Estudiante Ana agregado\n",
            "Nombre: Yamith, Edad: 34, Nota Final: 5\n",
            "Nombre: Juan, Edad: 35, Nota Final: 4\n",
            "Nombre: Ana, Edad: 36, Nota Final: 3\n",
            "None\n",
            "Estudiante Yamith eliminado\n"
          ]
        }
      ]
    },
    {
      "cell_type": "markdown",
      "source": [
        "**Función para conversión de unidades.**\n",
        "\n",
        "\n",
        "**Objetivo:** Escribe un programa que defina una función llamada convertir_distancia que tome una distancia en kilómetros y devuelva la conversión de esa distancia en millas, metros y centímetros. El programa debe:\n",
        "\n",
        "Definir la función convertir_distancia.\n",
        "\n",
        "Utilizar un valor fijo de 76 kilómetros para la conversión.\n",
        "\n",
        "Llamar a la función y capturar los valores devueltos.\n",
        "\n",
        "Mostrar los resultados de la conversión.\n",
        "\n",
        "Explicación detallada\n",
        "\n",
        "Definir la función convertir_distancia:\n",
        "\n",
        "La función convertir_distancia toma un argumento kilometros y calcula la distancia en millas, metros y centímetros.\n",
        "\n",
        "Utiliza las conversiones:\n",
        "\n",
        "1 kilómetro = 0.621371 millas\n",
        "\n",
        "1 kilómetro = 1000 metros\n",
        "\n",
        "1 kilómetro = 100000 centímetros\n",
        "\n",
        "Devuelve las distancias convertidas en millas, metros y centímetros.\n",
        "\n",
        "Utilizar un valor fijo de 76 kilómetros para la conversión:\n",
        "\n",
        "Define la variable kilometros con un valor de 76.\n",
        "\n",
        "Llamar a la función y capturar los valores devueltos:\n",
        "\n",
        "Llama a la función convertir_distancia con la distancia en kilómetros y captura los valores devueltos en las variables millas, metros y centimetros.\n",
        "\n",
        "Mostrar los resultados de la conversión:\n",
        "\n",
        "Utiliza la función print para mostrar los resultados de la conversión, formateando las distancias con dos decimales utilizando {valor:.2f}."
      ],
      "metadata": {
        "id": "idTMwJr12GA0"
      }
    },
    {
      "cell_type": "code",
      "source": [],
      "metadata": {
        "id": "XfOStz6q2KjS"
      },
      "execution_count": null,
      "outputs": []
    }
  ]
}